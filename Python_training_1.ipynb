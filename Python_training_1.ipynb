{
  "cells": [
    {
      "cell_type": "markdown",
      "metadata": {
        "id": "view-in-github",
        "colab_type": "text"
      },
      "source": [
        "<a href=\"https://colab.research.google.com/github/ravsheerRSA/Python_Training/blob/main/Python_training_1.ipynb\" target=\"_parent\"><img src=\"https://colab.research.google.com/assets/colab-badge.svg\" alt=\"Open In Colab\"/></a>"
      ]
    },
    {
      "cell_type": "markdown",
      "source": [
        "**Import packages**"
      ],
      "metadata": {
        "id": "nBZGWZJfnK7o"
      }
    },
    {
      "cell_type": "code",
      "source": [
        "import numpy as np \n",
        "import pandas as pd"
      ],
      "metadata": {
        "id": "yY9kQFIWmtt5"
      },
      "execution_count": null,
      "outputs": []
    },
    {
      "cell_type": "markdown",
      "source": [
        "**Read in files**\n",
        "\n",
        "read in csv: read_csv(\"file_path\")"
      ],
      "metadata": {
        "id": "Eexs842JAAKI"
      }
    },
    {
      "cell_type": "code",
      "source": [
        "df_non_season = pd.read_excel(\"/content/rh_non_seasonaility_traffic.xlsx\")"
      ],
      "metadata": {
        "id": "mt8nt28r_-ob"
      },
      "execution_count": 24,
      "outputs": []
    },
    {
      "cell_type": "code",
      "source": [
        "df_season = pd.read_excel(\"/content/rh_seasonaility_traffic.xlsx\")"
      ],
      "metadata": {
        "id": "IcypBsU2AYya"
      },
      "execution_count": 25,
      "outputs": []
    },
    {
      "cell_type": "code",
      "source": [
        "df_trend = pd.read_excel(\"/content/rh_trend_traffic.xlsx\")"
      ],
      "metadata": {
        "id": "qibrUQKJAhPZ"
      },
      "execution_count": 26,
      "outputs": []
    },
    {
      "cell_type": "markdown",
      "source": [
        "**Has my data loaded in correctly?**\n",
        "\n",
        "to see the nummber of rows, call '.shape'"
      ],
      "metadata": {
        "id": "OEfdA46XAnpa"
      }
    },
    {
      "cell_type": "code",
      "source": [
        "df_non_season.shape # rows x columns of non seasonality data"
      ],
      "metadata": {
        "id": "kkpMRdNvAt_4",
        "outputId": "b8affe38-da96-4b34-f3c0-046311691b8d",
        "colab": {
          "base_uri": "https://localhost:8080/"
        }
      },
      "execution_count": 28,
      "outputs": [
        {
          "output_type": "execute_result",
          "data": {
            "text/plain": [
              "(801, 37)"
            ]
          },
          "metadata": {},
          "execution_count": 28
        }
      ]
    },
    {
      "cell_type": "code",
      "source": [
        "df_season.shape # rows x columns of seasonality data"
      ],
      "metadata": {
        "id": "InLbBN44BDVx",
        "outputId": "c9721526-d637-41d8-f857-80cbf6bf4ee8",
        "colab": {
          "base_uri": "https://localhost:8080/"
        }
      },
      "execution_count": 29,
      "outputs": [
        {
          "output_type": "execute_result",
          "data": {
            "text/plain": [
              "(801, 37)"
            ]
          },
          "metadata": {},
          "execution_count": 29
        }
      ]
    },
    {
      "cell_type": "code",
      "source": [
        "df_trend.shape # rows x columns of seasonality data"
      ],
      "metadata": {
        "id": "9mQ56HHnBFXz",
        "outputId": "915fabe3-557f-4932-f5bb-ef202c5e69c1",
        "colab": {
          "base_uri": "https://localhost:8080/"
        }
      },
      "execution_count": 30,
      "outputs": [
        {
          "output_type": "execute_result",
          "data": {
            "text/plain": [
              "(801, 37)"
            ]
          },
          "metadata": {},
          "execution_count": 30
        }
      ]
    }
  ],
  "metadata": {
    "colab": {
      "collapsed_sections": [],
      "name": "Welcome to Colaboratory",
      "provenance": [],
      "include_colab_link": true
    },
    "kernelspec": {
      "display_name": "Python 3",
      "name": "python3"
    }
  },
  "nbformat": 4,
  "nbformat_minor": 0
}